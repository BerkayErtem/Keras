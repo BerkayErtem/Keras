{
  "nbformat": 4,
  "nbformat_minor": 0,
  "metadata": {
    "colab": {
      "name": "keras.ipynb",
      "provenance": [],
      "collapsed_sections": []
    },
    "kernelspec": {
      "name": "python3",
      "display_name": "Python 3"
    },
    "language_info": {
      "name": "python"
    }
  },
  "cells": [
    {
      "cell_type": "code",
      "metadata": {
        "id": "aEEEBJI9HOHu"
      },
      "source": [
        "from matplotlib import pyplot\n",
        "from keras.datasets import cifar10\n",
        "import keras.utils\n",
        "from keras import utils as np_utils\n",
        "from tensorflow.keras import utils as np_utils\n",
        "from tensorflow.keras.utils import to_categorical"
      ],
      "execution_count": 96,
      "outputs": []
    },
    {
      "cell_type": "code",
      "metadata": {
        "id": "v6rHiFrQHQHZ"
      },
      "source": [
        "(trainX, trainy), (testX, testy) = cifar10.load_data()"
      ],
      "execution_count": 97,
      "outputs": []
    },
    {
      "cell_type": "code",
      "metadata": {
        "colab": {
          "base_uri": "https://localhost:8080/"
        },
        "id": "7tCZik-fHVy4",
        "outputId": "f8ddcbb9-d25b-4f0a-9b2f-94e3eac4ca04"
      },
      "source": [
        "print('Train:' ,(trainX.shape, trainy.shape))\n",
        "print('Test:'  ,(testX.shape, testy.shape))"
      ],
      "execution_count": 98,
      "outputs": [
        {
          "output_type": "stream",
          "text": [
            "Train: ((50000, 32, 32, 3), (50000, 1))\n",
            "Test: ((10000, 32, 32, 3), (10000, 1))\n"
          ],
          "name": "stdout"
        }
      ]
    },
    {
      "cell_type": "code",
      "metadata": {
        "id": "0muhPxe9I_a_"
      },
      "source": [
        "trainY = to_categorical(trainy)\n",
        "testY = to_categorical(testy)\n"
      ],
      "execution_count": 99,
      "outputs": []
    },
    {
      "cell_type": "code",
      "metadata": {
        "id": "P_inxk84KIK_"
      },
      "source": [
        "train_norm = (trainX.astype('float32')) / 255.0\n",
        "test_norm = (testX.astype('float32')) / 255.0"
      ],
      "execution_count": 100,
      "outputs": []
    },
    {
      "cell_type": "code",
      "metadata": {
        "id": "WzS-unjcR0X2"
      },
      "source": [
        "trainX = trainX.reshape(50000, 32, 32, 3)\n",
        "testX = testX.reshape(10000, 32, 32, 3)"
      ],
      "execution_count": 101,
      "outputs": []
    },
    {
      "cell_type": "code",
      "metadata": {
        "id": "ROem8quGMh8H"
      },
      "source": [
        "from keras.models import Sequential\n",
        "from keras.layers import Dense, Conv2D, Flatten\n"
      ],
      "execution_count": 102,
      "outputs": []
    },
    {
      "cell_type": "code",
      "metadata": {
        "id": "YBQqeKQ0Nu8n"
      },
      "source": [
        "model = Sequential()"
      ],
      "execution_count": 103,
      "outputs": []
    },
    {
      "cell_type": "code",
      "metadata": {
        "id": "LVr-0qzlNvAW"
      },
      "source": [
        "model.add(Conv2D(64, kernel_size=3, activation=\"relu\", input_shape=(32, 32, 3)))\n",
        "model.add(Conv2D(32, kernel_size=3, activation=\"relu\"))\n",
        "model.add(Flatten())\n",
        "model.add(Dense(10, activation=\"softmax\"))"
      ],
      "execution_count": 104,
      "outputs": []
    },
    {
      "cell_type": "code",
      "metadata": {
        "id": "EaOVe82AOUJ4"
      },
      "source": [
        "model.compile(optimizer='adam', loss='categorical_crossentropy', metrics=['accuracy'])"
      ],
      "execution_count": 105,
      "outputs": []
    },
    {
      "cell_type": "code",
      "metadata": {
        "id": "bvq4lN8WPNu4"
      },
      "source": [
        "import tensorflow as tf"
      ],
      "execution_count": 106,
      "outputs": []
    },
    {
      "cell_type": "code",
      "metadata": {
        "id": "ahUWE1icPUl3"
      },
      "source": [
        "train_data = tf.data.Dataset.from_tensor_slices((trainX, trainY))\n",
        "valid_data = tf.data.Dataset.from_tensor_slices((testX, testY))"
      ],
      "execution_count": 109,
      "outputs": []
    },
    {
      "cell_type": "code",
      "metadata": {
        "colab": {
          "base_uri": "https://localhost:8080/"
        },
        "id": "GeHgejvHOUMm",
        "outputId": "ea3034ef-3566-4d07-dc48-dbf69d73d3b3"
      },
      "source": [
        "model.fit(train_norm, trainY, validation_data=(test_norm, testY), epochs=3)"
      ],
      "execution_count": 110,
      "outputs": [
        {
          "output_type": "stream",
          "text": [
            "Epoch 1/3\n",
            "1563/1563 [==============================] - 190s 121ms/step - loss: 1.7648 - accuracy: 0.3640 - val_loss: 1.4931 - val_accuracy: 0.4635\n",
            "Epoch 2/3\n",
            "1563/1563 [==============================] - 188s 121ms/step - loss: 1.3467 - accuracy: 0.5216 - val_loss: 1.2958 - val_accuracy: 0.5422\n",
            "Epoch 3/3\n",
            "1563/1563 [==============================] - 188s 120ms/step - loss: 1.1500 - accuracy: 0.5977 - val_loss: 1.1419 - val_accuracy: 0.6013\n"
          ],
          "name": "stdout"
        },
        {
          "output_type": "execute_result",
          "data": {
            "text/plain": [
              "<keras.callbacks.History at 0x7faff6e1fed0>"
            ]
          },
          "metadata": {
            "tags": []
          },
          "execution_count": 110
        }
      ]
    }
  ]
}